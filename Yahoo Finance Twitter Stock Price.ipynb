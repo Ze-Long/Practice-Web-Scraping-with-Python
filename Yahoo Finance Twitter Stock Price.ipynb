{
 "cells": [
  {
   "cell_type": "code",
   "execution_count": 21,
   "metadata": {},
   "outputs": [],
   "source": [
    "import re\n",
    "import requests\n",
    "import bs4\n",
    "from bs4 import BeautifulSoup"
   ]
  },
  {
   "cell_type": "code",
   "execution_count": 30,
   "metadata": {},
   "outputs": [],
   "source": [
    "def parsePrice():\n",
    "    r = requests.get('https://finance.yahoo.com/quote/TWTR?p=TWTR&.tsrc=fin-srch')\n",
    "    soup = bs4.BeautifulSoup(r.text, 'lxml')\n",
    "    price = soup.find_all('div',{'class': 'My(6px) Pos(r) smartphone_Mt(6px)'})[0].find('span').text\n",
    "    return price"
   ]
  },
  {
   "cell_type": "code",
   "execution_count": 33,
   "metadata": {},
   "outputs": [
    {
     "name": "stdout",
     "output_type": "stream",
     "text": [
      "the current price of Twitter is 31.30\n",
      "the current price of Twitter is 31.30\n",
      "the current price of Twitter is 31.30\n",
      "the current price of Twitter is 31.30\n",
      "the current price of Twitter is 31.30\n",
      "the current price of Twitter is 31.30\n",
      "the current price of Twitter is 31.30\n",
      "the current price of Twitter is 31.30\n",
      "the current price of Twitter is 31.30\n",
      "the current price of Twitter is 31.30\n"
     ]
    }
   ],
   "source": [
    "i = 0\n",
    "while True:\n",
    "    i = i + 1\n",
    "    print('the current price of Twitter is '+ str(parsePrice()))\n",
    "    if i == 10:\n",
    "        break"
   ]
  },
  {
   "cell_type": "code",
   "execution_count": null,
   "metadata": {},
   "outputs": [],
   "source": []
  }
 ],
 "metadata": {
  "kernelspec": {
   "display_name": "Python 3",
   "language": "python",
   "name": "python3"
  },
  "language_info": {
   "codemirror_mode": {
    "name": "ipython",
    "version": 3
   },
   "file_extension": ".py",
   "mimetype": "text/x-python",
   "name": "python",
   "nbconvert_exporter": "python",
   "pygments_lexer": "ipython3",
   "version": "3.7.3"
  },
  "toc": {
   "base_numbering": 1,
   "nav_menu": {},
   "number_sections": false,
   "sideBar": false,
   "skip_h1_title": false,
   "title_cell": "Table of Contents",
   "title_sidebar": "Contents",
   "toc_cell": false,
   "toc_position": {},
   "toc_section_display": false,
   "toc_window_display": false
  }
 },
 "nbformat": 4,
 "nbformat_minor": 2
}
