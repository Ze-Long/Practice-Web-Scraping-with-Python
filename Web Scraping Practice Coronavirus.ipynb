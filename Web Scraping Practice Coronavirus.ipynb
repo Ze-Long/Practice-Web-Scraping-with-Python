{
 "cells": [
  {
   "cell_type": "code",
   "execution_count": 9,
   "metadata": {},
   "outputs": [],
   "source": [
    "import requests\n",
    "res = requests.get('https://m.weibo.cn/api/container/getIndex?containerid=100103type%3D1%26q%3D%23%E6%AD%A6%E6%B1%89%E8%82%BA%E7%82%8E&page_type=searchall&page=3')\n",
    "jd = res.json()"
   ]
  },
  {
   "cell_type": "code",
   "execution_count": 15,
   "metadata": {},
   "outputs": [],
   "source": [
    "import pandas as pd\n",
    "articles = [rec['mblog'] for rec in jd['data']['cards'] if rec.get('mblog')]\n",
    "df = pd.DataFrame(articles)"
   ]
  },
  {
   "cell_type": "code",
   "execution_count": 17,
   "metadata": {},
   "outputs": [
    {
     "data": {
      "text/plain": [
       "0    <a  href=\"https://m.weibo.cn/search?containeri...\n",
       "1    這次<a  href=\"https://m.weibo.cn/search?containe...\n",
       "2    由于新冠型肺炎在意大利肆虐，意大利宣布停止所有运动赛事，包括意甲等联赛，直至4月3日！但不包...\n",
       "3    <a  href=\"https://m.weibo.cn/search?containeri...\n",
       "4    你球这次可能真的要完犊子了<a  href=\"https://m.weibo.cn/sear...\n",
       "5    COVID-19 Tracker<br />即时查看身边的武肺信息<br />大家记得戴口罩...\n",
       "6    #武汉肺炎<br />在马来西亚的确诊病例一直不断的在提升<br />用智慧来分辨一下如何才...\n",
       "7    <a  href=\"https://m.weibo.cn/search?containeri...\n",
       "8    政府照顧學生<a  href=\"https://m.weibo.cn/search?cont...\n",
       "9    就想问 在武汉的  四月也回不了房源怎么搞  这第二点对武汉的完全没用  意思就是还是要被迫...\n",
       "Name: text, dtype: object"
      ]
     },
     "execution_count": 17,
     "metadata": {},
     "output_type": "execute_result"
    }
   ],
   "source": [
    "df['text']"
   ]
  },
  {
   "cell_type": "code",
   "execution_count": 26,
   "metadata": {},
   "outputs": [],
   "source": [
    "import requests\n",
    "articles = []\n",
    "for i in range(5,10):\n",
    "    res = requests.get('https://m.weibo.cn/api/container/getIndex?containerid=100103type%3D1%26q%3D%23%E6%AD%A6%E6%B1%89%E8%82%BA%E7%82%8E&page_type=searchall&page={}'.format(i))\n",
    "    jd = res.json()\n",
    "    articles.extend([rec['mblog'] for rec in jd['data']['cards'] if rec.get('mblog')])\n",
    "df = pd.DataFrame(articles)"
   ]
  },
  {
   "cell_type": "code",
   "execution_count": 27,
   "metadata": {},
   "outputs": [
    {
     "data": {
      "text/plain": [
       "0     【直播】澳门新型冠状病毒感染应变协调中心将于今日下午5时公布新型冠状病毒最新疫情及本澳各项防...\n",
       "1     【一图读懂：新型冠状病毒肺炎防控方案（第六版）】#武汉肺炎##新冠肺炎##新型冠状病毒肺炎#...\n",
       "2                      #武汉肺炎# 之前不是都在骂我们武汉人出城吗？老外你们喷不喷？ \n",
       "3           菲律宾指一名台湾人将病毒带入菲律宾，台湾当局则表示应该是在菲律宾染病的。新闻：网页链接\n",
       "4                              哦哟喂想不到老妹的志愿者日记这么欢快#武汉肺炎#\n",
       "5     病毒发现伊始，就被认定起源自华南海鲜市场，媒体称为“武汉病毒”……不得不说，这是多么弱智而槽...\n",
       "6     #武汉肺炎# 每天早上睁开眼睛第一件事就是看数据，已经连续下降到两位数了，坚持就是胜利✌，武...\n",
       "7     抗疫新曲《日出》温暖上线 自贡音乐人携手谭维维倾情演绎#自贡快播报# #自贡身边事# #武汉...\n",
       "8         #武汉肺炎##武汉#武汉一医院行政补助高于一线医护：将重新核算#跟新浪看热点# 网页链接 \n",
       "9     #三乙话养生# 口干、咳嗽没有痰，听着是不是有些紧张？#健康养生##武汉肺炎# 的症状吧，如...\n",
       "10                          今天，你“绿”了吗#湖北健康码##武汉肺炎# 利川市 \n",
       "11    #武汉肺炎##孝感8天确诊为0#  发人深省的灵魂拷问——回家过年意外被圈禁在湖北家里50天...\n",
       "12    #武汉肺炎# 我们越是以为信息社会让我们资讯过载，以为我们拥有的信息太多，我们反而越可能被蒙...\n",
       "13                 保佑保佑讓病毒滾蛋～影響太多老闆了！好多人倒閉，營業額哭慘#武汉肺炎# \n",
       "14    #武汉肺炎# 在关下去，真的什么都可以自己做了，第一次做热干面，挺成功了的，就是没有萝卜丁和...\n",
       "15               有来自#武汉肺炎#比较严重地区的58位人员在酒店内隔离，还有13位医护人员。\n",
       "16    #武汉肺炎##剪头发# 这个疫情于我最大得收货就是把老婆培养成了一个的理发师。我的头，宝宝的...\n",
       "17    NBA库里才复出又挂病号 球团：染流感非武汉肺炎（法新社洛杉矶7日电） 美国职篮NBA球星库...\n",
       "18            看了伊朗医院的视频，和武汉封城开始时医院视频一模一样，伊朗💊#伊朗##武汉肺炎# \n",
       "19    呵呵了。襄阳这边开健康证必须要武汉那边防控指挥部同意文书，武汉那边的同意文书必须要先有健康证...\n",
       "20    #武汉肺炎# 疫情当下，学历通胀的时代，有文凭，没能力悲哀，有文凭，没平台更是悲哀！2000...\n",
       "21              毕竟也是一起经历过风风雨雨的人了#武汉肺炎##致敬疫情前线最美逆行者# 武汉 \n",
       "22    新型冠状病毒基本情况新型冠状病毒属于β属的新型冠状病毒，有包膜，颗粒呈圆形或椭圆形，常为多形...\n",
       "23    #武汉肺炎##马来西亚#拒绝#游轮#靠岸！#跟新浪看热点# 疫情升级！马来西亚禁止外国邮轮停...\n",
       "24    @央视新闻 @湖北经视 @武汉发布 @人民日报 @澎湃新闻 为什么删我视频 你们查到结果了吗...\n",
       "25    你还没有看我穿着学士服，你还没有看我考上硕士，你还没有在婚礼上挽着我的手和我一起走上台，你还...\n",
       "26    【《纽约时报》问：中国人能这样防疫难道不是因为专制？ 世卫专家：他们有强烈的信念】无论什么体...\n",
       "27    真没想到猪都有这样的殊荣，蕲春不愧是蕲艾之乡啊[呲牙][强][强]#武汉肺炎#中医超话#新冠...\n",
       "28    #武汉加油##武汉肺炎##武汉封城# 疫情就像一面照妖镜，人情冷暖一看便知。朋友发了赏花图，...\n",
       "29                #武汉肺炎# 祖国大地正春意盎然，愿疫情早点过去！@海珠湖 广州·海珠湖 \n",
       "30    山西刘总比较珍贵的美国进口N95 一盒20个口罩 刚刚已经香港顺丰快递寄出 请耐心等待几天。...\n",
       "31     #武汉肺炎##伊朗#一位女议员染病去世！#跟新浪看热点# 伊朗新当选议员法蒂玛因患新冠肺炎去世 \n",
       "32    能为疫情做的贡献就是积极参与党支部组织的捐款活动，宅在家不出门，等春暖花开能尽早复工，历尽坎...\n",
       "33    #武汉肺炎# 加拿大确诊多例访问美国后感染的病例，包括华盛顿州、芝加哥、拉斯维加斯、佛罗里达...\n",
       "34          #第一财经#最早证实那个网传文件的真实性！ 应该是媒体中最早的吹哨人吧？#武汉肺炎# \n",
       "35    特區政府要頒個英勇勳章俾佢哋 #澳門##英勇勳章##抗疫行动##口罩##武汉肺炎##包机# ...\n",
       "36             #武汉肺炎##浙江复工复产# 从高架上的车流可以看出，杭州复工了。 杭州·三墩 \n",
       "37    清华大学金融系教授朱武祥领衔的调研，抽样995家中小企业，分析 #武汉肺炎 新型冠状病毒感染...\n",
       "38    出这些主意的人是不是脑壳坏了？本来就瞒，这样一搞更厉害了。我倒觉得，反而要严查这些小区。#武...\n",
       "39                        #武汉肺炎# 各国如何应对疫情？ 北京·国家卫健委国合司 \n",
       "40    #餐饮业##武汉肺炎# 这次餐饮损失惨重，其实也是他们自找的，平时不管哪个渠道的货，只要便宜...\n",
       "41    海外的亲们最近有没有发现，最近国内的亲人朋友都在告诉我们戴口罩，然后实在不行就回国避疫......\n",
       "42    #武汉##武汉距离逐步解除疫情防控限制不会太远##武汉肺炎# 两个警察开着警车来了，我开始感...\n",
       "43    #武汉肺炎# 加拿大首次确诊来自美国的#2019冠状病毒病# 患者，温哥华周边也首次出现未知...\n",
       "44    #武汉肺炎##书画新浪潮# 肺炎还是严重，不能去人多的地方，就去大山里写生了。#花样宅家挑战...\n",
       "45          你说水太烫了，一会喝。  可是 水凉了，你却不在了#武汉肺炎##武汉加油,中国加油# \n",
       "46    #湖北什么时候解封##武汉肺炎##武汉# 东航3.29-5.2涉及湖北航班暂不执行，是要关到...\n",
       "47    近两天的亲子阅读书目为《宝葫芦的秘密》，朗读过程中若是稍微停顿下，少女果就催促着：妈妈，请继...\n",
       "Name: text, dtype: object"
      ]
     },
     "execution_count": 27,
     "metadata": {},
     "output_type": "execute_result"
    }
   ],
   "source": [
    "from bs4 import BeautifulSoup\n",
    "\n",
    "def parseArticle(e):\n",
    "    soup = BeautifulSoup(e, 'lxml')\n",
    "    return(soup.text)\n",
    "\n",
    "df['text'].map(parseArticle)"
   ]
  },
  {
   "cell_type": "code",
   "execution_count": null,
   "metadata": {},
   "outputs": [],
   "source": []
  }
 ],
 "metadata": {
  "kernelspec": {
   "display_name": "Python 3",
   "language": "python",
   "name": "python3"
  },
  "language_info": {
   "codemirror_mode": {
    "name": "ipython",
    "version": 3
   },
   "file_extension": ".py",
   "mimetype": "text/x-python",
   "name": "python",
   "nbconvert_exporter": "python",
   "pygments_lexer": "ipython3",
   "version": "3.7.3"
  },
  "toc": {
   "base_numbering": 1,
   "nav_menu": {},
   "number_sections": false,
   "sideBar": false,
   "skip_h1_title": false,
   "title_cell": "Table of Contents",
   "title_sidebar": "Contents",
   "toc_cell": false,
   "toc_position": {},
   "toc_section_display": false,
   "toc_window_display": false
  }
 },
 "nbformat": 4,
 "nbformat_minor": 2
}
